{
 "cells": [
  {
   "cell_type": "markdown",
   "metadata": {},
   "source": [
    "1. Round 4.5667 to the nearest hundreth using a build-in function, round()."
   ]
  },
  {
   "cell_type": "code",
   "execution_count": 1,
   "metadata": {},
   "outputs": [
    {
     "data": {
      "text/plain": [
       "4.57"
      ]
     },
     "execution_count": 1,
     "metadata": {},
     "output_type": "execute_result"
    }
   ],
   "source": [
    "round(4.5667,2)"
   ]
  },
  {
   "cell_type": "markdown",
   "metadata": {},
   "source": [
    "2. Convert \"657\" to an integer data type"
   ]
  },
  {
   "cell_type": "code",
   "execution_count": 1,
   "metadata": {},
   "outputs": [
    {
     "data": {
      "text/plain": [
       "657"
      ]
     },
     "execution_count": 1,
     "metadata": {},
     "output_type": "execute_result"
    }
   ],
   "source": [
    "int(\"657\")"
   ]
  },
  {
   "cell_type": "code",
   "execution_count": 5,
   "metadata": {},
   "outputs": [
    {
     "name": "stdout",
     "output_type": "stream",
     "text": [
      "Enter your first number1\n",
      "Enter your second number2\n",
      "1 1\n"
     ]
    }
   ],
   "source": [
    "\n",
    "import random as ran\n",
    "x=int (input(\"Enter your first number\"))\n",
    "y=int(input(\"Enter your second number\"))\n",
    "ran1 =ran.randint(x,y)\n",
    "ran2 =ran.randint(x,y)\n",
    "print(ran1,ran2)\n"
   ]
  },
  {
   "cell_type": "markdown",
   "metadata": {},
   "source": [
    "4.\n",
    "Write a program to center align below text where number of characters per line is 40:\n",
    "\n",
    "    Hickory, dickory, dock,\n",
    "    The mouse ran up the clock.\n",
    "    The clock struck one,\n",
    "    The mouse ran down,\n",
    "    Hickory, dickory, dock\n",
    "\n",
    "<b>Do not use string's center method! </b>"
   ]
  },
  {
   "cell_type": "code",
   "execution_count": 39,
   "metadata": {},
   "outputs": [
    {
     "name": "stdout",
     "output_type": "stream",
     "text": [
      "Hickory, dickory, dock,\n",
      "The mouse ran up the clock.\n",
      "The clock struck one,\n",
      "The mouse ran down,\n",
      "Hickory, dickory, dock\n"
     ]
    }
   ],
   "source": [
    "\n",
    "\n",
    "label1= \"Hickory, dickory, dock,\\nThe mouse ran up the clock.\\nThe clock struck one,\\nThe mouse ran down,\\nHickory, dickory, dock\"\n",
    "\n",
    "print(label1)\n",
    "\n"
   ]
  },
  {
   "cell_type": "code",
   "execution_count": 63,
   "metadata": {},
   "outputs": [
    {
     "name": "stdout",
     "output_type": "stream",
     "text": [
      "Hickory, dickory, dock \n",
      "The mouse ran up the clock. \n",
      "The clock struck one, \n",
      "The mouse ran down, \n",
      "Hickory, dickory, dock\n"
     ]
    }
   ],
   "source": [
    "line1 = \"Hickory, dickory, dock \\nThe mouse ran up the clock. \\nThe clock struck one, \\nThe mouse ran down, \\nHickory, dickory, dock\"\n",
    "\n",
    "line2 = line1.center(40)\n",
    "\n",
    "print(line2)       #print(len(line2)) is 119, so it isn't centering"
   ]
  },
  {
   "cell_type": "markdown",
   "metadata": {},
   "source": [
    "5. Write a function to calculate the miles per gallon.\n",
    "Get a miles driven and gallons used from a user and call your function to calculate the miles per gallon. "
   ]
  },
  {
   "cell_type": "code",
   "execution_count": 15,
   "metadata": {},
   "outputs": [
    {
     "name": "stdout",
     "output_type": "stream",
     "text": [
      "Enter miles driven:  10\n",
      "Enter gallons used:  2\n",
      "5.0 miles per gallon\n"
     ]
    }
   ],
   "source": [
    "a= float(input (\"Enter miles driven:  \"))\n",
    "         \n",
    "b= float(input (\"Enter gallons used:  \"))\n",
    "\n",
    "print(a/b, \"miles per gallon\")\n"
   ]
  },
  {
   "cell_type": "code",
   "execution_count": null,
   "metadata": {},
   "outputs": [],
   "source": []
  }
 ],
 "metadata": {
  "kernelspec": {
   "display_name": "Python 3 (ipykernel)",
   "language": "python",
   "name": "python3"
  },
  "language_info": {
   "codemirror_mode": {
    "name": "ipython",
    "version": 3
   },
   "file_extension": ".py",
   "mimetype": "text/x-python",
   "name": "python",
   "nbconvert_exporter": "python",
   "pygments_lexer": "ipython3",
   "version": "3.9.7"
  }
 },
 "nbformat": 4,
 "nbformat_minor": 4
}
